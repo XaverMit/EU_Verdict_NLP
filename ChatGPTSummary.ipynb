{
 "cells": [
  {
   "cell_type": "code",
   "execution_count": 8,
   "metadata": {},
   "outputs": [],
   "source": [
    "import openai\n",
    "import numpy as np"
   ]
  },
  {
   "cell_type": "code",
   "execution_count": 21,
   "metadata": {},
   "outputs": [
    {
     "name": "stdout",
     "output_type": "stream",
     "text": [
      "Question and answer:\n",
      "The decision of the European Parliament and the Council to provide macro-financial assistance to the Republic of North Macedonia demonstrates the unwavering commitment of the European Union to the Western Balkans. The COVID-19 pandemic and energy crisis have had a significant impact on North Macedonia's economy, exacerbating its financing gap, deteriorating external position, and growing fiscal needs. The government has shown a strong commitment to implementing reforms, including the judiciary, good governance, and the rule of law, and the IMF has approved a precautionary and liquidity line of up to EUR 530,000,000. Given its candidacy for EU membership and the accessions negotiations that have begun, North Macedonia is eligible to receive macro-financial assistance from the Union. The EU's decision to provide untied and undesignated balance-of-payment support to North Macedonia should help address the country's immediate external financing needs and underpin its implementation of a policy program containing strong adjustment and structural reform measures designed to improve its balance-of-payments position in the short term. This decision underscores the EU's commitment to the stability and prosperity of the Western Balkans, strengthening its neighborhood policies and supporting reforms that promote democracy, prosperity, and security. Overall, the decision of the European Union to provide macro-financial assistance to the Republic of North Macedonia demonstrates the EU's commitment to the stability and prosperity of the Western Balkans. The assistance, which complements resources made available by the IMF and the World Bank, should help address the country's immediate external financing needs and support its implementation of a policy program containing strong adjustment and structural reform measures. The assistance should also support the Union's external policy towards North Macedonia and the country's commitment to shared values such as democracy, the rule of law, and respect for human rights. The Commission should monitor North Macedonia's fulfilment of preconditions and objectives and ensure the protection of the Union's financial interests. European Union's macro-financial assistance to the Republic of North Macedonia marks a significant step towards promoting stability and prosperity in the Western Balkans. The assistance, which complements resources from the IMF and the World Bank, will help address the country's immediate external financing needs and support its implementation of strong adjustment and reform measures. This decision underscores the EU's commitment to shared values such as democracy, the rule of law, and respect for human rights. The Commission will monitor North Macedonia's fulfilment of preconditions and objectives to protect the Union's financial interests. The Union's macro-financial assistance will be subject to economic policy conditions, set out in a memorandum of understanding, negotiated under the supervision of the committee of representatives of the Member States. The assistance will be managed by the Commission, which will regularly inform the European Parliament and the Council of developments relating to that assistance and provide them with the relevant documents. The Union's macro-financial assistance to North Macedonia should strengthen the Union's external policy towards the country and support its candidacy for EU membership and accession negotiations. The decision to provide macro-financial assistance to North Macedonia reflects the EU's commitment to promoting stability and prosperity in the Western Balkans. The assistance will address the country's immediate external financing needs and support the implementation of strong adjustment and reform measures. The Commission will monitor North Macedonia's fulfilment of preconditions and objectives to protect the Union's financial interests. The assistance will be subject to economic policy conditions, set out in a memorandum of understanding, negotiated under the supervision of the committee of representatives of the Member States. The Union's macro-financial assistance will be managed by the Commission and will strengthen the Union's external policy towards the country, supporting its candidacy for EU membership and accession negotiations. The decision of the European Union to provide macro-financial assistance to the Republic of North Macedonia highlights the EU's unwavering commitment to the stability and prosperity of the Western Balkans. This assistance, in conjunction with resources from the IMF and World Bank, should help address North Macedonia's immediate external financing needs and support its implementation of necessary adjustment and reform measures. By strengthening its neighborhood policies and supporting democratic, prosperous, and secure reforms, the EU demonstrates its support of shared values such as democracy, rule of law, and human rights. The Commission will monitor North Macedonia's fulfilment of preconditions and objectives and ensure the protection of the Union's financial interests while managing the assistance. This decision marks a significant step towards promoting stability and prosperity in the Western Balkans and supports North Macedonia's candidacy for EU membership and accession negotiations. In conclusion, the provision of macro-financial assistance to the Republic of North Macedonia by the European Union highlights the EU's commitment to the stability and prosperity of the Western Balkans. This assistance, in conjunction with resources from the IMF and World Bank, should help address North Macedonia's immediate external financing needs and support its implementation of necessary adjustment and reform measures. By strengthening its neighborhood policies and supporting democratic, prosperous, and secure reforms, the EU demonstrates its support of shared values such as democracy, rule of law, and human rights. The Commission will monitor North Macedonia's fulfilment of preconditions and objectives and ensure the protection of the Union's financial interests while managing the assistance. This decision marks a significant step towards promoting stability and prosperity in the Western Balkans and supports North Macedonia's candidacy for EU membership and accession negotiations.\n",
      "What is the significance of the European Union's decision to provide macro-financial assistance to the Republic of North Macedonia?\n",
      "\n",
      "The decision highlights the EU's unwavering commitment to the stability and prosperity of the Western Balkans. The assistance, in conjunction with resources from the IMF and World Bank, is designed to address North Macedonia's immediate external financing needs and support its implementation of necessary adjustment and reform measures. By strengthening its neighborhood policies and supporting democratic, prosperous, and secure reforms, the decision demonstrates the EU's support of shared values such as democracy, rule of law, and human rights. The Commission will monitor North Macedonia's fulfilment of preconditions and objectives and ensure the protection of the Union's financial interests while managing the assistance. This decision is a significant step towards promoting stability and prosperity in the Western Balkans and supports North Macedonia's candidacy for EU membership and accession negotiations.\n"
     ]
    }
   ],
   "source": [
    "openai.api_type = \"azure\"\n",
    "openai.api_key = \"fe694247c3784f3bb664e2dd343617c7\"\n",
    "openai.api_base = \"https://openai-acortax-dev-instance01.openai.azure.com/\"\n",
    "openai.api_version = \"2023-05-15\"\n",
    "\n",
    "with open('summary.txt', encoding=\"utf8\") as file:\n",
    "    long_text = file.read()\n",
    "\n",
    "chunk_size = 4000 \n",
    "text_sections = [long_text[i:i+chunk_size] for i in range(0, len(long_text), chunk_size)]\n",
    "amount = len(text_sections)\n",
    "len_of_subsummary = int(np.floor(3900/amount))\n",
    "section_summaries = []\n",
    "\n",
    "# Summarize each section\n",
    "for i, section in enumerate(text_sections):\n",
    "    current_summary = \" \".join(section_summaries)\n",
    "    prompt = f\"Please write a conclusion in max {i+1 * len_of_subsummary} characters: '{current_summary + section}'\"\n",
    "\n",
    "    try:\n",
    "        # create a chat completion\n",
    "        response = openai.ChatCompletion.create(deployment_id=\"gpt-35-turbo-dp01-8KRate\", model=\"gpt-35-turbo\", messages=[{\"role\": \"user\", \"content\": f\"{prompt}\"}])\n",
    "\n",
    "        # append the chat completion\n",
    "        summary = response.choices[0].message.content\n",
    "\n",
    "    except:\n",
    "        summary = ''\n",
    "    \n",
    "    section_summaries.append(summary)\n",
    "\n",
    "# Combine section summaries into an overall summary\n",
    "overall_summary = \" \".join(section_summaries)\n",
    "\n",
    "prompt = f\"Please write a key question and key answer of this text: {overall_summary}'\"\n",
    "try:\n",
    "    # create a chat completion\n",
    "    response = openai.ChatCompletion.create(deployment_id=\"gpt-35-turbo-dp01-8KRate\", model=\"gpt-35-turbo\", messages=[{\"role\": \"user\", \"content\": f\"{prompt}\"}])\n",
    "\n",
    "    # append the chat completion\n",
    "    qa = response.choices[0].message.content\n",
    "\n",
    "except:\n",
    "    summary = ''\n",
    "\n",
    "print(\"Question and answer:\")\n",
    "print(overall_summary)\n",
    "print(qa)\n"
   ]
  }
 ],
 "metadata": {
  "kernelspec": {
   "display_name": "Python 3",
   "language": "python",
   "name": "python3"
  },
  "language_info": {
   "codemirror_mode": {
    "name": "ipython",
    "version": 3
   },
   "file_extension": ".py",
   "mimetype": "text/x-python",
   "name": "python",
   "nbconvert_exporter": "python",
   "pygments_lexer": "ipython3",
   "version": "3.11.1"
  },
  "orig_nbformat": 4
 },
 "nbformat": 4,
 "nbformat_minor": 2
}
